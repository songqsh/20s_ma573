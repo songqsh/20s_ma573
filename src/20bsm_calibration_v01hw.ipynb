{
  "nbformat": 4,
  "nbformat_minor": 0,
  "metadata": {
    "colab": {
      "name": "20bsm_calibration_v01hw.ipynb",
      "provenance": []
    },
    "kernelspec": {
      "display_name": "Python 3",
      "language": "python",
      "name": "python3"
    },
    "language_info": {
      "codemirror_mode": {
        "name": "ipython",
        "version": 3
      },
      "file_extension": ".py",
      "mimetype": "text/x-python",
      "name": "python",
      "nbconvert_exporter": "python",
      "pygments_lexer": "ipython3",
      "version": "3.6.4"
    }
  },
  "cells": [
    {
      "cell_type": "markdown",
      "metadata": {
        "colab_type": "text",
        "id": "VBlkqbgUvQ6k"
      },
      "source": [
        "# Volatility calibration to BSM"
      ]
    },
    {
      "cell_type": "markdown",
      "metadata": {
        "colab_type": "text",
        "id": "gxxtEM40t092"
      },
      "source": [
        "## Abstract\n",
        "\n",
        "- Goal\n",
        "    - Calibrate BSM model for makert price of options\n"
      ]
    },
    {
      "cell_type": "markdown",
      "metadata": {
        "colab_type": "text",
        "id": "Y0jFTVYPt1Ot"
      },
      "source": [
        "## Problem\n",
        "\n",
        "All of pricing models require a set of model parameters in order to fully define the dynamics of each model. The process of adjusting model parameters such that the model prices are compatible with market prices is called **Calibration**. \n",
        "\n",
        "Input:\n",
        "\n",
        "- market prices of several options with different strikes and maturities\n",
        "- spot price\n",
        "- interest rates\n",
        "\n",
        "Output:\n",
        "\n",
        "- Find volatility of BSM model"
      ]
    },
    {
      "cell_type": "markdown",
      "metadata": {
        "colab_type": "text",
        "id": "imn9O8Qcu1iW"
      },
      "source": [
        "## Anal\n",
        "\n",
        "\n",
        "Suppose\n",
        "- Model prameter $\\theta = (\\theta_1, ... \\theta_m)$ is a vector\n",
        "- Prices of $n$ instruments are aviable in the market with its market price of $i$th instrument quoted by $C_i$. \n",
        "Let's denote $C = (C_1, ..., C_n)$ as a market price vector.\n",
        "- In theory, $C_i^\\theta$ is the model price of the $i$th instrument, and they are denoted as a vector $C^\\theta = (C_1^\\theta, ...,  C^\\theta_n)$. \n",
        "\n",
        "Given a distance function $H: \\mathbb R^n \\times \\mathbb R^n \\mapsto \\mathbb R^+$, calibration is to find the parameter $\\theta^*$  which minimize the objective function $H(C^\\theta, C)$, i.e.\n",
        "$$ \\theta^* = \\arg\\min_\\theta H(C^\\theta, C).$$\n",
        "\n",
        "Commonly used distance functions for $H$ are \n",
        "- $H(x, y) = (\\sum_{i=1}^n w_i |x_i - y_i|^p)^{1/p}.$\n",
        "- $H(x, y) = (\\sum_{i=1}^n w_i | \\frac{x_i - y_i}{y_i}|^p)^{1/p}.$ If $p = 2$, $w_i =1$, then $H^2$ is called as SSRE (sum of squred relative errors)\n",
        "- $H(x, y) = (\\sum_{i=1}^n w_i |\\ln x - \\ln y|^p)^{1/p}.$\n",
        "\n",
        "In this below, we are goint to use, the first case of $H$ with $p = 2$ and $w_i = 1$ for all i's."
      ]
    },
    {
      "cell_type": "markdown",
      "metadata": {
        "id": "I7Id5NE-hOaZ",
        "colab_type": "text"
      },
      "source": [
        "# Hw Tasks"
      ]
    },
    {
      "cell_type": "markdown",
      "metadata": {
        "id": "ipfXGogphZ79",
        "colab_type": "text"
      },
      "source": [
        "## Task-1\n",
        "\n",
        "- Upload data from [here](https://github.com/songqsh/20s_ma573/blob/master/src/20optiondata2.dat) to your cloud platform\n",
        "- Calibration/Performance:\n",
        "  - Filter out 2-mon options and calibrate volatility using the distance function\n",
        "$$H(x, y) = (\\sum_{i=1}^n w_i |x_i - y_i|^2)^{1/2}.$$\n",
        "  - Calibrated price for option means the computed option price using calibrated volatility and other parameters given by the market. Compare the market price and calibrated price using a plot of two curves: strike vs market (calibrated) price\n",
        "- Do the same thing for the filter from 5-mon options.\n",
        "- Which calibrated volatility is bigger, 2-mon or 5-mon?\n"
      ]
    },
    {
      "cell_type": "markdown",
      "metadata": {
        "id": "DuovTMczlP_d",
        "colab_type": "text"
      },
      "source": [
        "## Task-2 (optional)\n",
        "Please discuss the validity of the following statements:\n",
        "- Given an underlying asset, options with shorter maturity can be better fitted than a longer maturity.\n",
        "- Suppose Assest1(ex. AAPL) is more liquid than Asset2 (ex. TAL). Then Asset1 can be fit better than Asset2."
      ]
    },
    {
      "cell_type": "code",
      "metadata": {
        "colab_type": "code",
        "id": "UOVUqxlEEqIG",
        "colab": {}
      },
      "source": [
        ""
      ],
      "execution_count": 0,
      "outputs": []
    },
    {
      "cell_type": "code",
      "metadata": {
        "id": "J0_ikDIrc-xj",
        "colab_type": "code",
        "colab": {}
      },
      "source": [
        ""
      ],
      "execution_count": 0,
      "outputs": []
    },
    {
      "cell_type": "code",
      "metadata": {
        "id": "4tO1FcoQc-xl",
        "colab_type": "code",
        "colab": {}
      },
      "source": [
        ""
      ],
      "execution_count": 0,
      "outputs": []
    }
  ]
}