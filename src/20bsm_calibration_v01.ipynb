{
  "nbformat": 4,
  "nbformat_minor": 0,
  "metadata": {
    "colab": {
      "name": "20bsm_calibration_v01.ipynb",
      "provenance": [],
      "include_colab_link": true
    },
    "kernelspec": {
      "display_name": "Python 3",
      "language": "python",
      "name": "python3"
    },
    "language_info": {
      "codemirror_mode": {
        "name": "ipython",
        "version": 3
      },
      "file_extension": ".py",
      "mimetype": "text/x-python",
      "name": "python",
      "nbconvert_exporter": "python",
      "pygments_lexer": "ipython3",
      "version": "3.6.4"
    }
  },
  "cells": [
    {
      "cell_type": "markdown",
      "metadata": {
        "id": "view-in-github",
        "colab_type": "text"
      },
      "source": [
        "<a href=\"https://colab.research.google.com/github/songqsh/18ma573v01/blob/master/src/20bsm_calibration_v01.ipynb\" target=\"_parent\"><img src=\"https://colab.research.google.com/assets/colab-badge.svg\" alt=\"Open In Colab\"/></a>"
      ]
    },
    {
      "cell_type": "markdown",
      "metadata": {
        "colab_type": "text",
        "id": "VBlkqbgUvQ6k"
      },
      "source": [
        "# Volatility calibration to BSM"
      ]
    },
    {
      "cell_type": "markdown",
      "metadata": {
        "colab_type": "text",
        "id": "gxxtEM40t092"
      },
      "source": [
        "## Abstract\n",
        "\n",
        "- Goal\n",
        "    - Calibrate BSM model for makert price of options\n"
      ]
    },
    {
      "cell_type": "markdown",
      "metadata": {
        "colab_type": "text",
        "id": "Y0jFTVYPt1Ot"
      },
      "source": [
        "## Problem\n",
        "\n",
        "All of pricing models require a set of model parameters in order to fully define the dynamics of each model. The process of adjusting model parameters such that the model prices are compatible with market prices is called **Calibration**. \n",
        "\n",
        "Input:\n",
        "\n",
        "- market prices of several options with different strikes and maturities\n",
        "- spot price\n",
        "- interest rates\n",
        "\n",
        "Output:\n",
        "\n",
        "- Find volatility of BSM model"
      ]
    },
    {
      "cell_type": "markdown",
      "metadata": {
        "colab_type": "text",
        "id": "imn9O8Qcu1iW"
      },
      "source": [
        "## Anal\n",
        "\n",
        "\n",
        "Suppose\n",
        "- Model prameter $\\theta = (\\theta_1, ... \\theta_m)$ is a vector\n",
        "- Prices of $n$ instruments are aviable in the market with its market price of $i$th instrument quoted by $C_i$. \n",
        "Let's denote $C = (C_1, ..., C_n)$ as a market price vector.\n",
        "- In theory, $C_i^\\theta$ is the model price of the $i$th instrument, and they are denoted as a vector $C^\\theta = (C_1^\\theta, ...,  C^\\theta_n)$. \n",
        "\n",
        "Given a distance function $H: \\mathbb R^n \\times \\mathbb R^n \\mapsto \\mathbb R^+$, calibration is to find the parameter $\\theta^*$  which minimize the objective function $H(C^\\theta, C)$, i.e.\n",
        "$$ \\theta^* = \\arg\\min_\\theta H(C^\\theta, C).$$\n",
        "\n",
        "Commonly used distance functions for $H$ are \n",
        "- $H(x, y) = (\\sum_{i=1}^n w_i |x_i - y_i|^p)^{1/p}.$\n",
        "- $H(x, y) = (\\sum_{i=1}^n w_i | \\frac{x_i - y_i}{y_i}|^p)^{1/p}.$ If $p = 2$, $w_i =1$, then $H^2$ is called as SSRE (sum of squred relative errors)\n",
        "- $H(x, y) = (\\sum_{i=1}^n w_i |\\ln x - \\ln y|^p)^{1/p}.$\n",
        "\n",
        "In this below, we are goint to use, the first case of $H$ with $p = 2$ and $w_i = 1$ for all i's."
      ]
    },
    {
      "cell_type": "markdown",
      "metadata": {
        "colab_type": "text",
        "id": "eVZsLxD8uEwA"
      },
      "source": [
        "## Code"
      ]
    },
    {
      "cell_type": "markdown",
      "metadata": {
        "colab_type": "text",
        "id": "3KZKEJdCUJa_"
      },
      "source": [
        "- Import package from Github"
      ]
    },
    {
      "cell_type": "code",
      "metadata": {
        "colab_type": "code",
        "id": "xJiFQheVT0SO",
        "colab": {
          "base_uri": "https://localhost:8080/",
          "height": 51
        },
        "outputId": "5f8851d3-b6e6-436a-bbac-85e625e32ccc"
      },
      "source": [
        "%cd~\n",
        "\n",
        "!git clone https://github.com/songqsh/20s_ma573.git "
      ],
      "execution_count": 4,
      "outputs": [
        {
          "output_type": "stream",
          "text": [
            "/root\n",
            "fatal: destination path '20s_ma573' already exists and is not an empty directory.\n"
          ],
          "name": "stdout"
        }
      ]
    },
    {
      "cell_type": "code",
      "metadata": {
        "id": "16uDhRSLeBFb",
        "colab_type": "code",
        "colab": {
          "base_uri": "https://localhost:8080/",
          "height": 323
        },
        "outputId": "c8154aa6-81ec-48c2-8b91-85316e0e9341"
      },
      "source": [
        "%cd 20s_ma573/src/\n",
        "%ls\n",
        "from bsm01 import *"
      ],
      "execution_count": 8,
      "outputs": [
        {
          "output_type": "stream",
          "text": [
            "[Errno 2] No such file or directory: '20s_ma573/src/'\n",
            "/root/20s_ma573/src\n",
            "20bsm01_test.ipynb              20iv_hw01.ipynb\n",
            "20bsm_formula.ipynb             20mcpi01.aux\n",
            "20bsm_price_change.ipynb        20mcpi01.log\n",
            "20european_options_class.ipynb  20mcpi01.out\n",
            "20explicit_bsm_greeks.ipynb     20mcpi01.pdf\n",
            "20fd1.ipynb                     20mcpi01.tex\n",
            "20fd1_rate.ipynb                20montone.ipynb\n",
            "20fd2.ipynb                     20option_combinations.ipynb\n",
            "20fd_ex.aux                     20optiondata2.dat\n",
            "20fd_ex.log                     20pandas.ipynb\n",
            "20fd_ex.out                     20python_notebook.ipynb\n",
            "20fd_ex.pdf                     20s_github.ipynb\n",
            "20fd_ex.synctex.gz              20vol_smile_v01.ipynb\n",
            "20fd_ex.tex                     bsm01.py\n",
            "20grid_random_walk_01.ipynb     \u001b[0m\u001b[01;34m__pycache__\u001b[0m/\n",
            "20imp_vol_v01.ipynb\n"
          ],
          "name": "stdout"
        }
      ]
    },
    {
      "cell_type": "markdown",
      "metadata": {
        "colab_type": "text",
        "id": "1s1eIpODUW_A"
      },
      "source": [
        "- Read data from .dat file. It has call option prices of\n",
        "  - maturities 2 months and 5 months;\n",
        "  - strikes of 97, 99, 101, 103"
      ]
    },
    {
      "cell_type": "code",
      "metadata": {
        "id": "4yLQuchVeIEE",
        "colab_type": "code",
        "colab": {
          "base_uri": "https://localhost:8080/",
          "height": 170
        },
        "outputId": "349fb565-8e8c-4d88-b2d7-37290c81e82b"
      },
      "source": [
        "'''======\n",
        "Read data\n",
        "========='''\n",
        "#Read four-column data\n",
        "#columns are otype, maturity, strike, option_price\n",
        "np_option_data1 = np.loadtxt('20optiondata2.dat', comments='#', delimiter=',')\n",
        "\n",
        "print('>>>>>>otype, maturity, strike, option_price')\n",
        "print(np_option_data1)"
      ],
      "execution_count": 9,
      "outputs": [
        {
          "output_type": "stream",
          "text": [
            ">>>>>>otype, maturity, strike, option_price\n",
            "[[  1.           0.16666667  97.           5.32705461]\n",
            " [  1.           0.16666667  99.           3.86224255]\n",
            " [  1.           0.16666667 101.           2.7204371 ]\n",
            " [  1.           0.16666667 103.           2.1202793 ]\n",
            " [  1.           0.41666667  97.           7.23756307]\n",
            " [  1.           0.41666667  99.           5.95053461]\n",
            " [  1.           0.41666667 101.           5.2640122 ]\n",
            " [  1.           0.41666667 103.           4.97493422]]\n"
          ],
          "name": "stdout"
        }
      ]
    },
    {
      "cell_type": "markdown",
      "metadata": {
        "colab_type": "text",
        "id": "rLJ7Qm2nWehV"
      },
      "source": [
        "- We also need to give spot price and interest rate before the computation."
      ]
    },
    {
      "cell_type": "code",
      "metadata": {
        "colab_type": "code",
        "id": "-5Oe6-JIWd1m",
        "colab": {}
      },
      "source": [
        "'''==============\n",
        "below are from the market data for underlying process\n",
        "================='''\n",
        "gbm1 = Gbm(\n",
        "    init_state = 100., \n",
        "    drift_ratio = .0475,\n",
        "    vol_ratio = .2)"
      ],
      "execution_count": 0,
      "outputs": []
    },
    {
      "cell_type": "markdown",
      "metadata": {
        "colab_type": "text",
        "id": "jtzdzPDRXkSO"
      },
      "source": [
        "- creat option_list from the data"
      ]
    },
    {
      "cell_type": "code",
      "metadata": {
        "colab_type": "code",
        "id": "GErLpqgQXtDS",
        "colab": {}
      },
      "source": [
        "num_row = np_option_data1.shape[0]\n",
        "option_list1 = []\n",
        "\n",
        "for i in range(num_row):\n",
        "  option1 = VanillaOption(\n",
        "      otype = np_option_data1[i,0],\n",
        "      strike = np_option_data1[i,2],\n",
        "      maturity = np_option_data1[i,1],\n",
        "      market_price = np_option_data1[i,3]\n",
        "  )\n",
        "      \n",
        "  option_list1.append(option1) "
      ],
      "execution_count": 0,
      "outputs": []
    },
    {
      "cell_type": "markdown",
      "metadata": {
        "colab_type": "text",
        "id": "x0F0-26vXsYp"
      },
      "source": [
        "- Define calibration method"
      ]
    },
    {
      "cell_type": "code",
      "metadata": {
        "colab_type": "code",
        "id": "8HbNeNkVnEtT",
        "colab": {}
      },
      "source": [
        "'''==========\n",
        "define a method for error function for a list of options\n",
        "============'''\n",
        "\n",
        "def error_function(vol, gbm, option_list):\n",
        "  gbm.vol_ratio = vol\n",
        "  err1 = 0\n",
        "  for i in np.arange(len(option_list)):\n",
        "    err1 = err1 + ((option_list[i]).market_price - gbm.bsm_price(option_list[i]))**2    \n",
        "  return err1"
      ],
      "execution_count": 0,
      "outputs": []
    },
    {
      "cell_type": "code",
      "metadata": {
        "colab_type": "code",
        "id": "bVnh5RUk5d6q",
        "colab": {}
      },
      "source": [
        "'''==========\n",
        "define a method to seek for a calibrated volatility\n",
        "============'''\n",
        "\n",
        "def bsm_calibration(gbm, option_list):\n",
        "  init_vol = .1 #initial guess\n",
        "  return so.fmin(error_function, init_vol, args = (gbm, option_list), disp = 0)[0]"
      ],
      "execution_count": 0,
      "outputs": []
    },
    {
      "cell_type": "markdown",
      "metadata": {
        "colab_type": "text",
        "id": "g-m2t4ASEFj8"
      },
      "source": [
        "- filtering out options of 2-mon maturity"
      ]
    },
    {
      "cell_type": "code",
      "metadata": {
        "colab_type": "code",
        "id": "difSQvSK8t9A",
        "outputId": "2b976a73-5cbf-4475-d54f-7474a35101fe",
        "colab": {
          "base_uri": "https://localhost:8080/",
          "height": 34
        }
      },
      "source": [
        "# Take options of 2-mon maturity\n",
        "filter1 = list(filter(lambda x: x.maturity == 2/12, option_list1))\n",
        "calibrated_volatility1 = bsm_calibration(gbm1, filter1)\n",
        "print('>>>>>>>> calibrated_volatility is ' + str(calibrated_volatility1))"
      ],
      "execution_count": 15,
      "outputs": [
        {
          "output_type": "stream",
          "text": [
            ">>>>>>>> calibrated_volatility is 0.18250000000000027\n"
          ],
          "name": "stdout"
        }
      ]
    },
    {
      "cell_type": "code",
      "metadata": {
        "colab_type": "code",
        "id": "oqHGpYx36QyF",
        "outputId": "defc6f7f-9197-4a6d-d9f4-7d645404ff5b",
        "colab": {
          "base_uri": "https://localhost:8080/",
          "height": 34
        }
      },
      "source": [
        "gbm1.vol_ratio = calibrated_volatility1\n",
        "\n",
        "#find calibrated option price\n",
        "filter1_calibrated_price = [gbm1.bsm_price(filter1[i]) for i in range(len(filter1))]\n",
        "print('>>> option prices recovered from the calibrated vol:', \n",
        "      filter1_calibrated_price)"
      ],
      "execution_count": 17,
      "outputs": [
        {
          "output_type": "stream",
          "text": [
            ">>> option prices recovered from the calibrated vol: [5.176357894124408, 3.9206969095088553, 2.8739902270479476, 2.0360432828599997]\n"
          ],
          "name": "stdout"
        }
      ]
    },
    {
      "cell_type": "code",
      "metadata": {
        "colab_type": "code",
        "id": "iqohN8KJCgn3",
        "outputId": "ff9cede0-054b-488f-b0aa-ef90d6e86bd9",
        "colab": {
          "base_uri": "https://localhost:8080/",
          "height": 279
        }
      },
      "source": [
        "x_co = [filter1[i].strike for i in range(len(filter1))]\n",
        "y_co = [filter1[i].market_price for i in range(len(filter1))]\n",
        "plt.plot(x_co, y_co, 'o', label='market price')\n",
        "\n",
        "y_co = filter1_calibrated_price\n",
        "plt.plot(x_co, y_co, label = 'calib price')\n",
        "\n",
        "plt.ylabel('option price')\n",
        "plt.xlabel('strike with fixed 2-mon maturity')\n",
        "plt.legend();\n"
      ],
      "execution_count": 18,
      "outputs": [
        {
          "output_type": "display_data",
          "data": {
            "image/png": "[encoded data removed]",
            "text/plain": [
              "<Figure size 432x288 with 1 Axes>"
            ]
          },
          "metadata": {
            "tags": []
          }
        }
      ]
    },
    {
      "cell_type": "markdown",
      "metadata": {
        "colab_type": "text",
        "id": "cN50FH0HEKvF"
      },
      "source": [
        "- filtering out options of 5-mon maturity"
      ]
    },
    {
      "cell_type": "code",
      "metadata": {
        "colab_type": "code",
        "id": "c9-K7xuUENQk",
        "outputId": "9026b4f5-bea8-4c61-e53d-0a45fae01420",
        "colab": {
          "base_uri": "https://localhost:8080/",
          "height": 34
        }
      },
      "source": [
        "# Take options of 2-mon maturity\n",
        "filter2 = list(filter(lambda x: x.maturity == 5/12, option_list1))\n",
        "calibrated_volatility2 = bsm_calibration(gbm1, filter2)\n",
        "print('>>>>>>>> calibrated_volatility is ' + str(calibrated_volatility2))"
      ],
      "execution_count": 19,
      "outputs": [
        {
          "output_type": "stream",
          "text": [
            ">>>>>>>> calibrated_volatility is 0.18617187500000032\n"
          ],
          "name": "stdout"
        }
      ]
    },
    {
      "cell_type": "code",
      "metadata": {
        "colab_type": "code",
        "id": "u-OottXfESIR",
        "outputId": "7e5c7302-7180-4463-dd91-72ffeff9bd59",
        "colab": {
          "base_uri": "https://localhost:8080/",
          "height": 34
        }
      },
      "source": [
        "gbm1.vol_ratio = calibrated_volatility2\n",
        "\n",
        "#find calibrated option price\n",
        "filter2_calibrated_price = [gbm1.bsm_price(filter2[i]) for i in range(len(filter2))]\n",
        "print('>>>> option prices recovered from calibrated vol:', filter2_calibrated_price)"
      ],
      "execution_count": 22,
      "outputs": [
        {
          "output_type": "stream",
          "text": [
            ">>>> option prices recovered from calibrated vol: [7.52657356701409, 6.3355902235228, 5.273494726839061, 4.339981549139665]\n"
          ],
          "name": "stdout"
        }
      ]
    },
    {
      "cell_type": "code",
      "metadata": {
        "colab_type": "code",
        "id": "U6CadXi3EfVW",
        "outputId": "7f994286-735f-4e0b-c4a7-13c3a7719881",
        "colab": {
          "base_uri": "https://localhost:8080/",
          "height": 279
        }
      },
      "source": [
        "x_co = [filter2[i].strike for i in range(len(filter2))]\n",
        "y_co = [filter2[i].market_price for i in range(len(filter2))]\n",
        "plt.plot(x_co, y_co, 'o', label='market price')\n",
        "\n",
        "y_co = filter2_calibrated_price\n",
        "plt.plot(x_co, y_co, label = 'calib price')\n",
        "\n",
        "plt.ylabel('option price')\n",
        "plt.xlabel('strike with fixed 5-mon maturity')\n",
        "plt.legend();\n"
      ],
      "execution_count": 23,
      "outputs": [
        {
          "output_type": "display_data",
          "data": {
            "image/png": "[encoded data removed]",
            "text/plain": [
              "<Figure size 432x288 with 1 Axes>"
            ]
          },
          "metadata": {
            "tags": []
          }
        }
      ]
    },
    {
      "cell_type": "code",
      "metadata": {
        "colab_type": "code",
        "id": "UOVUqxlEEqIG",
        "colab": {}
      },
      "source": [
        ""
      ],
      "execution_count": 0,
      "outputs": []
    },
    {
      "cell_type": "code",
      "metadata": {
        "id": "J0_ikDIrc-xj",
        "colab_type": "code",
        "colab": {}
      },
      "source": [
        ""
      ],
      "execution_count": 0,
      "outputs": []
    },
    {
      "cell_type": "code",
      "metadata": {
        "id": "4tO1FcoQc-xl",
        "colab_type": "code",
        "colab": {}
      },
      "source": [
        ""
      ],
      "execution_count": 0,
      "outputs": []
    }
  ]
}