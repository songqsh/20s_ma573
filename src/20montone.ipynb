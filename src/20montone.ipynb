{
  "nbformat": 4,
  "nbformat_minor": 0,
  "metadata": {
    "kernelspec": {
      "display_name": "Python 3",
      "language": "python",
      "name": "python3"
    },
    "language_info": {
      "codemirror_mode": {
        "name": "ipython",
        "version": 3
      },
      "file_extension": ".py",
      "mimetype": "text/x-python",
      "name": "python",
      "nbconvert_exporter": "python",
      "pygments_lexer": "ipython3",
      "version": "3.6.4"
    },
    "colab": {
      "name": "20montone.ipynb",
      "provenance": []
    }
  },
  "cells": [
    {
      "cell_type": "markdown",
      "metadata": {
        "id": "beeMNE6NupHF",
        "colab_type": "text"
      },
      "source": [
        "- Prove or disprove: Suppose $f$ is convex and $X$ is submartingale, prove that \n",
        "$g(t) = \\mathbb E[f(X_t)]$ is increasing."
      ]
    },
    {
      "cell_type": "markdown",
      "metadata": {
        "id": "skUVOXnhvJdK",
        "colab_type": "text"
      },
      "source": [
        "- __Proof__ (your proof here)"
      ]
    },
    {
      "cell_type": "markdown",
      "metadata": {
        "id": "lw-yQOBaupHI",
        "colab_type": "text"
      },
      "source": [
        "- Let $t \\mapsto e^{-rt}S_t$ be a martingale, \n",
        "then prove that $$C(t) = \\mathbb E[e^{-rt}(S_t - K)^+]$$ is increasing."
      ]
    },
    {
      "cell_type": "markdown",
      "metadata": {
        "id": "oOQi7_7fvVn2",
        "colab_type": "text"
      },
      "source": [
        "- __Proof__ (your proof here)"
      ]
    },
    {
      "cell_type": "markdown",
      "metadata": {
        "id": "E09uh6uDupHJ",
        "colab_type": "text"
      },
      "source": [
        "- Suppose $r = 0$ and $S$ is martingale, prove that\n",
        "$P(t) = \\mathbb E [(S_t - K)^-]$ is increasing."
      ]
    },
    {
      "cell_type": "markdown",
      "metadata": {
        "id": "sVD2bl4uvpBy",
        "colab_type": "text"
      },
      "source": [
        "- __Proof__ (here)"
      ]
    },
    {
      "cell_type": "code",
      "metadata": {
        "id": "F2yYY1Q8upHK",
        "colab_type": "code",
        "colab": {}
      },
      "source": [
        ""
      ],
      "execution_count": 0,
      "outputs": []
    }
  ]
}
