{
  "nbformat": 4,
  "nbformat_minor": 0,
  "metadata": {
    "colab": {
      "name": "20bsm01_test.ipynb",
      "provenance": [],
      "authorship_tag": "ABX9TyN3i7czW83h6Zmi7R6KwHvy",
      "include_colab_link": true
    },
    "kernelspec": {
      "name": "python3",
      "display_name": "Python 3"
    }
  },
  "cells": [
    {
      "cell_type": "markdown",
      "metadata": {
        "id": "view-in-github",
        "colab_type": "text"
      },
      "source": [
        "<a href=\"https://colab.research.google.com/github/songqsh/20s_ma573/blob/master/src/20bsm01_test.ipynb\" target=\"_parent\"><img src=\"https://colab.research.google.com/assets/colab-badge.svg\" alt=\"Open In Colab\"/></a>"
      ]
    },
    {
      "cell_type": "markdown",
      "metadata": {
        "id": "k2FjyoMbPrV2",
        "colab_type": "text"
      },
      "source": [
        "- Copy all useful class and functions into one py file and save it to git repo. In this case, we have 'bsm01.py' under 'reponame/src' folder\n",
        "- Import package from Github"
      ]
    },
    {
      "cell_type": "code",
      "metadata": {
        "id": "9kS0RrT-RyeO",
        "colab_type": "code",
        "outputId": "dcbf7f62-15e4-48a9-d1a4-a94553f0c399",
        "colab": {
          "base_uri": "https://localhost:8080/",
          "height": 153
        }
      },
      "source": [
        "%cd~\n",
        "\n",
        "!git clone https://github.com/songqsh/20s_ma573.git \n",
        "pass"
      ],
      "execution_count": 1,
      "outputs": [
        {
          "output_type": "stream",
          "text": [
            "/root\n",
            "Cloning into '20s_ma573'...\n",
            "remote: Enumerating objects: 169, done.\u001b[K\n",
            "remote: Counting objects: 100% (169/169), done.\u001b[K\n",
            "remote: Compressing objects: 100% (140/140), done.\u001b[K\n",
            "remote: Total 169 (delta 85), reused 81 (delta 25), pack-reused 0\u001b[K\n",
            "Receiving objects: 100% (169/169), 491.15 KiB | 2.70 MiB/s, done.\n",
            "Resolving deltas: 100% (85/85), done.\n"
          ],
          "name": "stdout"
        }
      ]
    },
    {
      "cell_type": "markdown",
      "metadata": {
        "id": "cVmjNk6XQbo1",
        "colab_type": "text"
      },
      "source": [
        "- change current folder and check uploaded files"
      ]
    },
    {
      "cell_type": "code",
      "metadata": {
        "id": "ZHGJcysdQaf2",
        "colab_type": "code",
        "outputId": "e1142717-00f4-4690-caf5-a5709203ac84",
        "colab": {
          "base_uri": "https://localhost:8080/",
          "height": 255
        }
      },
      "source": [
        "%cd 20s_ma573/src/\n",
        "%ls"
      ],
      "execution_count": 2,
      "outputs": [
        {
          "output_type": "stream",
          "text": [
            "/root/20s_ma573/src\n",
            "20bsm01.py                      20fd_ex.synctex.gz\n",
            "20bsm01_test.ipynb              20fd_ex.tex\n",
            "20bsm_formula.ipynb             20grid_random_walk_01.ipynb\n",
            "20bsm_price_change.ipynb        20imp_vol_v01.ipynb\n",
            "20european_options_class.ipynb  20iv_hw01.ipynb\n",
            "20explicit_bsm_greeks.ipynb     20montone.ipynb\n",
            "20fd1.ipynb                     20option_combinations.ipynb\n",
            "20fd1_rate.ipynb                20optiondata2.dat\n",
            "20fd2.ipynb                     20pandas.ipynb\n",
            "20fd_ex.aux                     20python_notebook.ipynb\n",
            "20fd_ex.log                     20s_github.ipynb\n",
            "20fd_ex.out                     20vol_smile_v01.ipynb\n",
            "20fd_ex.pdf                     bsm01.py\n"
          ],
          "name": "stdout"
        }
      ]
    },
    {
      "cell_type": "markdown",
      "metadata": {
        "id": "UIX3XSlBRZG7",
        "colab_type": "text"
      },
      "source": [
        "- Import module"
      ]
    },
    {
      "cell_type": "code",
      "metadata": {
        "id": "rC89_V3zQQmo",
        "colab_type": "code",
        "colab": {}
      },
      "source": [
        "from bsm01 import *"
      ],
      "execution_count": 0,
      "outputs": []
    },
    {
      "cell_type": "markdown",
      "metadata": {
        "id": "jQEcYXdMSOxQ",
        "colab_type": "text"
      },
      "source": [
        "- Test codes"
      ]
    },
    {
      "cell_type": "code",
      "metadata": {
        "id": "ilgWPNINRfmF",
        "colab_type": "code",
        "outputId": "31dda9ab-065f-4bec-b78f-d76fef7c3697",
        "colab": {
          "base_uri": "https://localhost:8080/",
          "height": 51
        }
      },
      "source": [
        "'''===============\n",
        "Test bsm_price\n",
        "================='''\n",
        "gbm1 = Gbm(\n",
        "    init_state = 100., \n",
        "    drift_ratio = .0475,\n",
        "    vol_ratio = .2)\n",
        "option1 = VanillaOption(\n",
        "    otype = 1,\n",
        "    strike = 110.,                \n",
        "    maturity = 1.\n",
        ")    \n",
        "\n",
        "print('>>>>>>>>>>call value is ' + str(gbm1.bsm_price(option1)))\n",
        "option2 = VanillaOption(otype=-1)\n",
        "print('>>>>>>>>>>put value is ' + str(gbm1.bsm_price(option2)))"
      ],
      "execution_count": 4,
      "outputs": [
        {
          "output_type": "stream",
          "text": [
            ">>>>>>>>>>call value is 5.943273183452838\n",
            ">>>>>>>>>>put value is 10.84042522804176\n"
          ],
          "name": "stdout"
        }
      ]
    },
    {
      "cell_type": "code",
      "metadata": {
        "id": "5z4xw7drSQc4",
        "colab_type": "code",
        "outputId": "e6bb0991-732d-4de5-9520-689e722af9de",
        "colab": {
          "base_uri": "https://localhost:8080/",
          "height": 34
        }
      },
      "source": [
        "'''============\n",
        "test the implied_vol by reversing bsm_formula example in the above\n",
        "=============='''\n",
        "\n",
        "option1.market_price = 5.94\n",
        "\n",
        "print('>>>>>>>>implied volatility is ' + \n",
        "     str(implied_volatility(gbm1, option1)))"
      ],
      "execution_count": 5,
      "outputs": [
        {
          "output_type": "stream",
          "text": [
            ">>>>>>>>implied volatility is 0.19992187500000036\n"
          ],
          "name": "stdout"
        }
      ]
    },
    {
      "cell_type": "code",
      "metadata": {
        "id": "u5FsJwrPSTgG",
        "colab_type": "code",
        "outputId": "d03241b6-bc08-42f1-8197-c23b2f054365",
        "colab": {
          "base_uri": "https://localhost:8080/",
          "height": 170
        }
      },
      "source": [
        "'''======\n",
        "Read data\n",
        "========='''\n",
        "#Read four-column data\n",
        "#columns are otype, maturity, strike, option_price\n",
        "np_option_data1 = np.loadtxt('20optiondata2.dat', comments='#', delimiter=',')\n",
        "\n",
        "print('>>>>>>otype, maturity, strike, option_price')\n",
        "print(np_option_data1)"
      ],
      "execution_count": 6,
      "outputs": [
        {
          "output_type": "stream",
          "text": [
            ">>>>>>otype, maturity, strike, option_price\n",
            "[[  1.           0.16666667  97.           5.32705461]\n",
            " [  1.           0.16666667  99.           3.86224255]\n",
            " [  1.           0.16666667 101.           2.7204371 ]\n",
            " [  1.           0.16666667 103.           2.1202793 ]\n",
            " [  1.           0.41666667  97.           7.23756307]\n",
            " [  1.           0.41666667  99.           5.95053461]\n",
            " [  1.           0.41666667 101.           5.2640122 ]\n",
            " [  1.           0.41666667 103.           4.97493422]]\n"
          ],
          "name": "stdout"
        }
      ]
    },
    {
      "cell_type": "markdown",
      "metadata": {
        "id": "kuw0kBeEStLr",
        "colab_type": "text"
      },
      "source": [
        "- Test vol smile"
      ]
    },
    {
      "cell_type": "code",
      "metadata": {
        "id": "ev_buvGuShv1",
        "colab_type": "code",
        "colab": {}
      },
      "source": [
        "'''====================\n",
        "create option_list from the data\n",
        "======================='''\n",
        "\n",
        "num_row = np_option_data1.shape[0]\n",
        "option_list = []\n",
        "\n",
        "for i in range(num_row):\n",
        "  option1 = VanillaOption(\n",
        "      otype = np_option_data1[i,0],\n",
        "      strike = np_option_data1[i,2],\n",
        "      maturity = np_option_data1[i,1],\n",
        "      market_price = np_option_data1[i,3]\n",
        "  )   \n",
        "  option_list.append(option1)"
      ],
      "execution_count": 0,
      "outputs": []
    },
    {
      "cell_type": "code",
      "metadata": {
        "id": "w8EaPmNZS2iC",
        "colab_type": "code",
        "outputId": "0bdb78b3-ecb5-4f20-bb12-748429896322",
        "colab": {
          "base_uri": "https://localhost:8080/",
          "height": 170
        }
      },
      "source": [
        "#expand one column for vol\n",
        "np_option_data2 = np.append(np_option_data1, np.zeros([num_row,1]), axis = 1)\n",
        "#compute implied vols and add them into the last column\n",
        "for i in range(num_row):\n",
        "  np_option_data2[i,4] = implied_volatility(gbm1, option_list[i])\n",
        "  \n",
        "print('>>>>>>otype, maturity, strike, option_price, implied vol')\n",
        "print(np_option_data2)"
      ],
      "execution_count": 8,
      "outputs": [
        {
          "output_type": "stream",
          "text": [
            ">>>>>>otype, maturity, strike, option_price, implied vol\n",
            "[[  1.           0.16666667  97.           5.32705461   0.19320313]\n",
            " [  1.           0.16666667  99.           3.86224255   0.17875   ]\n",
            " [  1.           0.16666667 101.           2.7204371    0.17307617]\n",
            " [  1.           0.16666667 103.           2.1202793    0.18785156]\n",
            " [  1.           0.41666667  97.           7.23756307   0.17350586]\n",
            " [  1.           0.41666667  99.           5.95053461   0.17042969]\n",
            " [  1.           0.41666667 101.           5.2640122    0.18578125]\n",
            " [  1.           0.41666667 103.           4.97493422   0.21083984]]\n"
          ],
          "name": "stdout"
        }
      ]
    },
    {
      "cell_type": "code",
      "metadata": {
        "id": "q0iuUBaWS5Vr",
        "colab_type": "code",
        "outputId": "80e5a735-6b3b-4d2d-d8a6-ee50fde636b7",
        "colab": {
          "base_uri": "https://localhost:8080/",
          "height": 279
        }
      },
      "source": [
        "filter1 = np_option_data2[np_option_data2[:,1] == 2/12]\n",
        "plt.plot(filter1[:,2], filter1[:,4], label = '2 mon maturity')\n",
        "filter2 = np_option_data2[np_option_data2[:,1] == 5/12]\n",
        "plt.plot(filter2[:,2], filter2[:,4], label = '5 mon maturity')\n",
        "plt.ylabel('implied vol')\n",
        "plt.xlabel('strike')\n",
        "plt.legend();"
      ],
      "execution_count": 9,
      "outputs": [
        {
          "output_type": "display_data",
          "data": {
            "image/png": "[encoded data removed]",
            "text/plain": [
              "<Figure size 432x288 with 1 Axes>"
            ]
          },
          "metadata": {
            "tags": []
          }
        }
      ]
    },
    {
      "cell_type": "code",
      "metadata": {
        "id": "T9fIDIQ0S9Vk",
        "colab_type": "code",
        "colab": {}
      },
      "source": [
        ""
      ],
      "execution_count": 0,
      "outputs": []
    }
  ]
}