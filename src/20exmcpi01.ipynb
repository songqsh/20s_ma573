{
 "cells": [
  {
   "cell_type": "markdown",
   "metadata": {},
   "source": [
    "__ex__\n",
    "\n",
    "Consider the following estimator for the value $\\pi$.\n",
    "$$\\hat \\pi = c \\cdot I(X_1^2 + X_2^2< 1/2)$$\n",
    "where $X_1$ and $X_2$ are two independent uniform random variable on $(-1,1)$.\n",
    "\n",
    "- find the constant $c$ so that $\\hat \\pi$ is unbiased estimator to $\\pi$;\n",
    "- for $c$ in the above question, what is its MSE?\n",
    "- can you propose a better mc estimator?"
   ]
  },
  {
   "cell_type": "markdown",
   "metadata": {},
   "source": [
    "__soln__\n",
    "\n",
    "- $c = 8$, since\n",
    "$$\\mathbb E \\hat \\pi = c \\mathbb P(X_1^2 + X_2^2 <1/2) = c \\cdot \\pi/8 = \\pi$$\n",
    "- $MSE = 8\\pi - \\pi^2$, since\n",
    "$$MSE = Var = \\mathbb E[\\hat \\pi^2] - (\\mathbb E[\\hat \\pi])^2\n",
    "= 64 \\cdot \\pi/8 - \\pi^2.$$"
   ]
  },
  {
   "cell_type": "code",
   "execution_count": null,
   "metadata": {},
   "outputs": [],
   "source": []
  }
 ],
 "metadata": {
  "kernelspec": {
   "display_name": "Python 3",
   "language": "python",
   "name": "python3"
  },
  "language_info": {
   "codemirror_mode": {
    "name": "ipython",
    "version": 3
   },
   "file_extension": ".py",
   "mimetype": "text/x-python",
   "name": "python",
   "nbconvert_exporter": "python",
   "pygments_lexer": "ipython3",
   "version": "3.6.4"
  }
 },
 "nbformat": 4,
 "nbformat_minor": 2
}
